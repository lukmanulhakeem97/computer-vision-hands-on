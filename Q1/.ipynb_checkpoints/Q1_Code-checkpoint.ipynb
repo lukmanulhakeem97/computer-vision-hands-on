{
 "cells": [
  {
   "cell_type": "code",
   "execution_count": 2,
   "metadata": {},
   "outputs": [
    {
     "name": "stdout",
     "output_type": "stream",
     "text": [
      "Collecting opencv-python\n",
      "  Downloading opencv_python-4.7.0.72-cp37-abi3-win_amd64.whl (38.2 MB)\n",
      "     -------------------------------------- 38.2/38.2 MB 549.6 kB/s eta 0:00:00\n",
      "Requirement already satisfied: numpy>=1.17.3 in c:\\users\\enfintech\\anaconda3\\lib\\site-packages (from opencv-python) (1.21.5)\n",
      "Installing collected packages: opencv-python\n",
      "Successfully installed opencv-python-4.7.0.72\n"
     ]
    }
   ],
   "source": [
    "# importing opencv-python\n",
    "!pip install opencv-python"
   ]
  },
  {
   "cell_type": "code",
   "execution_count": 3,
   "metadata": {},
   "outputs": [],
   "source": [
    "# import required libraries \n",
    "\n",
    "import cv2                      ## opencv package used for image processing\n",
    "import numpy as np              ## numpy used for mathematical operations of array structure\n",
    "import matplotlib.pyplot as plt ## for plotting images on notebook"
   ]
  },
  {
   "cell_type": "code",
   "execution_count": 4,
   "metadata": {},
   "outputs": [],
   "source": [
    "# Defining function \"spotting_difference\"\n",
    "\n",
    "def spotting_difference(image1, image2):\n",
    "    ## This function will find difference between the two given input images and output the difference as image array.\n",
    "    \n",
    "    ## convert the images to grayscale\n",
    "    img1_gray = cv2.cvtColor(image1, cv2.COLOR_BGR2GRAY)\n",
    "    img2_gray = cv2.cvtColor(image2, cv2.COLOR_BGR2GRAY)\n",
    "    \n",
    "    ## checking whether shape of both images are same or not\n",
    "    if img1_gray.shape != img2_gray.shape:\n",
    "        ## if not, any of the image shape is resized to that of other image \n",
    "        img2_gray = cv2.resize(img2_gray, (img1_gray.shape[1], img1_gray.shape[0]))\n",
    "        \n",
    "    ## calculating difference between two images\n",
    "    diff = cv2.subtract(img1_gray, img2_gray) \n",
    "    \n",
    "    ## return function output;\n",
    "    ## first: check if there any non-zero pixel value\n",
    "    ## second: diff - output image array\n",
    "    return np.any(diff) != 0, diff"
   ]
  },
  {
   "cell_type": "code",
   "execution_count": null,
   "metadata": {
    "scrolled": false
   },
   "outputs": [],
   "source": [
    "## Loading data\n",
    "img1 = cv2.imread('image1.jpeg') \n",
    "img2 = cv2.imread('image2.jpeg') \n",
    "\n",
    "## calling function 'spotting_difference'\n",
    "status, img_diff = spotting_difference(img1, img2)\n",
    "\n",
    "## status returned True if there is any difference, else no difference\n",
    "if status==True:\n",
    "    print('There is difference between images.')\n",
    "else: \n",
    "    print('There is no difference between images.')\n",
    "\n",
    "## showing result\n",
    "fig = plt.figure(figsize=(15, 8))\n",
    "plt.title(\"Difference\")\n",
    "plt.imshow(img_diff)\n",
    "plt.show()"
   ]
  },
  {
   "cell_type": "code",
   "execution_count": null,
   "metadata": {},
   "outputs": [],
   "source": []
  }
 ],
 "metadata": {
  "kernelspec": {
   "display_name": "Python 3",
   "language": "python",
   "name": "python3"
  },
  "language_info": {
   "codemirror_mode": {
    "name": "ipython",
    "version": 3
   },
   "file_extension": ".py",
   "mimetype": "text/x-python",
   "name": "python",
   "nbconvert_exporter": "python",
   "pygments_lexer": "ipython3",
   "version": "3.7.7"
  }
 },
 "nbformat": 4,
 "nbformat_minor": 4
}
