{
 "cells": [
  {
   "cell_type": "markdown",
   "metadata": {},
   "source": [
    "## Image preprocessing with HOG feature extraction"
   ]
  },
  {
   "cell_type": "code",
   "execution_count": 1,
   "metadata": {},
   "outputs": [],
   "source": [
    "## loading packages\n",
    "\n",
    "import os\n",
    "import numpy as np\n",
    "from skimage.feature import hog\n",
    "from PIL import Image\n",
    "import matplotlib.pyplot as plt"
   ]
  },
  {
   "cell_type": "code",
   "execution_count": 2,
   "metadata": {},
   "outputs": [],
   "source": [
    "## HOG configuration\n",
    "orientations = 9\n",
    "pixels_per_cell = (8, 8)\n",
    "cells_per_block = (2, 2)\n",
    "\n",
    "hu_im_path = 'C:\\\\Users\\\\admin\\\\JupyterNotebook_works\\\\mtech-programing-labs\\\\S2\\\\Computer-vision\\\\Project\\\\image-dataset-inria\\\\label-1'\n",
    "nohu_im_path = 'C:\\\\Users\\\\admin\\\\JupyterNotebook_works\\\\mtech-programing-labs\\\\S2\\\\Computer-vision\\\\Project\\\\image-dataset-inria\\\\label-0'"
   ]
  },
  {
   "cell_type": "code",
   "execution_count": 3,
   "metadata": {},
   "outputs": [
    {
     "name": "stdout",
     "output_type": "stream",
     "text": [
      "No. images having Human:  902 \n",
      "No. images not having Human:  362\n"
     ]
    }
   ],
   "source": [
    "hu_im_listing = os.listdir(hu_im_path)\n",
    "nohu_im_listing = os.listdir(nohu_im_path)\n",
    "\n",
    "print('No. images having Human: ', len(hu_im_listing), '\\nNo. images not having Human: ', len(nohu_im_listing))"
   ]
  },
  {
   "cell_type": "code",
   "execution_count": 4,
   "metadata": {},
   "outputs": [],
   "source": [
    "data = []\n",
    "labels = []"
   ]
  },
  {
   "cell_type": "code",
   "execution_count": 5,
   "metadata": {},
   "outputs": [],
   "source": [
    "for file in hu_im_listing: \n",
    "    img = Image.open(hu_im_path + '\\\\' + file)\n",
    "    img = img.resize((64,128))\n",
    "    gray = img.convert('L') \n",
    "    hog_feat = hog(gray, orientations, pixels_per_cell, cells_per_block, block_norm='L2', feature_vector=True)\n",
    "    data.append(hog_feat)\n",
    "    labels.append(1)"
   ]
  },
  {
   "cell_type": "code",
   "execution_count": 6,
   "metadata": {},
   "outputs": [],
   "source": [
    "for file in nohu_im_listing:\n",
    "    img = Image.open(nohu_im_path + '\\\\' + file)\n",
    "    img = img.resize((64,128))\n",
    "    gray = img.convert('L')\n",
    "    hog_feat = hog(gray, orientations, pixels_per_cell, cells_per_block, block_norm='L2', feature_vector=True) \n",
    "    data.append(hog_feat)\n",
    "    labels.append(0)"
   ]
  },
  {
   "cell_type": "code",
   "execution_count": 7,
   "metadata": {},
   "outputs": [],
   "source": [
    "data = np.array(data)"
   ]
  },
  {
   "cell_type": "code",
   "execution_count": 12,
   "metadata": {},
   "outputs": [
    {
     "data": {
      "text/plain": [
       "array([0.10737484, 0.13949477, 0.07550298, ..., 0.08509003, 0.06562477,\n",
       "       0.01888669])"
      ]
     },
     "execution_count": 12,
     "metadata": {},
     "output_type": "execute_result"
    }
   ],
   "source": [
    "data[0]"
   ]
  },
  {
   "cell_type": "code",
   "execution_count": 8,
   "metadata": {
    "scrolled": true
   },
   "outputs": [
    {
     "name": "stdout",
     "output_type": "stream",
     "text": [
      "(1264, 3780)\n"
     ]
    }
   ],
   "source": [
    "print(data.shape)"
   ]
  },
  {
   "cell_type": "code",
   "execution_count": 9,
   "metadata": {},
   "outputs": [],
   "source": [
    "labels = np.array(labels)"
   ]
  },
  {
   "cell_type": "markdown",
   "metadata": {},
   "source": [
    "## Modelling classifier"
   ]
  },
  {
   "cell_type": "code",
   "execution_count": 10,
   "metadata": {},
   "outputs": [],
   "source": [
    "from sklearn.svm import LinearSVC\n",
    "import time\n",
    "\n",
    "from sklearn.metrics import classification_report, confusion_matrix\n",
    "from sklearn.model_selection import train_test_split\n",
    "import joblib"
   ]
  },
  {
   "cell_type": "code",
   "execution_count": 11,
   "metadata": {},
   "outputs": [],
   "source": [
    "X_train, X_test, y_train, y_test = train_test_split(data, labels, test_size=0.20, random_state=40, stratify=labels)"
   ]
  },
  {
   "cell_type": "code",
   "execution_count": 12,
   "metadata": {},
   "outputs": [
    {
     "name": "stdout",
     "output_type": "stream",
     "text": [
      "28.684470820969338 71.31552917903066 \n",
      " 28.458498023715418 71.54150197628458\n"
     ]
    }
   ],
   "source": [
    "print((len(y_train[y_train==0])/y_train.shape[0])*100, \n",
    "      (len(y_train[y_train==1])/y_train.shape[0])*100, '\\n',\n",
    "      (len(y_test[y_test==0])/y_test.shape[0])*100,\n",
    "      (len(y_test[y_test==1])/y_test.shape[0])*100)"
   ]
  },
  {
   "cell_type": "code",
   "execution_count": 13,
   "metadata": {},
   "outputs": [
    {
     "data": {
      "text/plain": [
       "(1011, 3780)"
      ]
     },
     "execution_count": 13,
     "metadata": {},
     "output_type": "execute_result"
    }
   ],
   "source": [
    "X_train.shape"
   ]
  },
  {
   "cell_type": "code",
   "execution_count": 14,
   "metadata": {},
   "outputs": [
    {
     "data": {
      "text/plain": [
       "1.0"
      ]
     },
     "execution_count": 14,
     "metadata": {},
     "output_type": "execute_result"
    }
   ],
   "source": [
    "model_lsvc = LinearSVC()\n",
    "model_lsvc.fit(X_train, y_train)\n",
    "model_lsvc.score(X_train, y_train)"
   ]
  },
  {
   "cell_type": "code",
   "execution_count": 20,
   "metadata": {},
   "outputs": [],
   "source": [
    "from datetime import datetime"
   ]
  },
  {
   "cell_type": "code",
   "execution_count": 21,
   "metadata": {},
   "outputs": [
    {
     "name": "stdout",
     "output_type": "stream",
     "text": [
      "7.636\n",
      "              precision    recall  f1-score   support\n",
      "\n",
      "           0       0.78      0.74      0.76        72\n",
      "           1       0.90      0.92      0.91       181\n",
      "\n",
      "    accuracy                           0.87       253\n",
      "   macro avg       0.84      0.83      0.83       253\n",
      "weighted avg       0.86      0.87      0.86       253\n",
      "\n"
     ]
    }
   ],
   "source": [
    "time_bf = datetime.now()\n",
    "y_pred_lsvc = model_lsvc.predict(X_test)\n",
    "time_af = datetime.now()\n",
    "time_dif = time_af - time_bf\n",
    "print(round(time_dif.total_seconds()*1000, 3))\n",
    "print(classification_report(y_test, y_pred_lsvc))"
   ]
  },
  {
   "cell_type": "code",
   "execution_count": 22,
   "metadata": {},
   "outputs": [
    {
     "data": {
      "text/plain": [
       "array([[ 53,  19],\n",
       "       [ 15, 166]], dtype=int64)"
      ]
     },
     "execution_count": 22,
     "metadata": {},
     "output_type": "execute_result"
    }
   ],
   "source": [
    "confusion_matrix(y_test, y_pred_lsvc)"
   ]
  },
  {
   "cell_type": "code",
   "execution_count": 23,
   "metadata": {
    "scrolled": true
   },
   "outputs": [
    {
     "data": {
      "text/plain": [
       "['svm_model2.npy']"
      ]
     },
     "execution_count": 23,
     "metadata": {},
     "output_type": "execute_result"
    }
   ],
   "source": [
    "joblib.dump(model_lsvc, 'svm_model2.npy')"
   ]
  },
  {
   "cell_type": "code",
   "execution_count": 45,
   "metadata": {},
   "outputs": [],
   "source": []
  },
  {
   "cell_type": "code",
   "execution_count": null,
   "metadata": {},
   "outputs": [],
   "source": []
  }
 ],
 "metadata": {
  "kernelspec": {
   "display_name": "Python 3",
   "language": "python",
   "name": "python3"
  },
  "language_info": {
   "codemirror_mode": {
    "name": "ipython",
    "version": 3
   },
   "file_extension": ".py",
   "mimetype": "text/x-python",
   "name": "python",
   "nbconvert_exporter": "python",
   "pygments_lexer": "ipython3",
   "version": "3.7.7"
  }
 },
 "nbformat": 4,
 "nbformat_minor": 4
}
