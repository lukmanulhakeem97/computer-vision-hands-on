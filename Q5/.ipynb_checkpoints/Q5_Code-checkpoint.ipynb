{
 "cells": [
  {
   "cell_type": "markdown",
   "metadata": {},
   "source": [
    "# Task 5\n",
    "Record an original video of a subject in a stationary background (No green screens).\n",
    "\n",
    "    a. Change the original background with another background.\n",
    "    b. Show the optical flow of the video"
   ]
  },
  {
   "cell_type": "markdown",
   "metadata": {},
   "source": [
    "## Prerequisite\n",
    "Before running below code make sure to install packages in 'requirements.txt' file."
   ]
  },
  {
   "cell_type": "markdown",
   "metadata": {},
   "source": [
    "Ref: https://youtu.be/p9eNXa_8j-k"
   ]
  },
  {
   "cell_type": "code",
   "execution_count": null,
   "metadata": {},
   "outputs": [],
   "source": [
    "# !pip install cvzone"
   ]
  },
  {
   "cell_type": "code",
   "execution_count": null,
   "metadata": {},
   "outputs": [],
   "source": [
    "# !pip install mediapipe"
   ]
  },
  {
   "cell_type": "code",
   "execution_count": 18,
   "metadata": {},
   "outputs": [],
   "source": [
    "# !pip install \"opencv-python-headless<4.3\""
   ]
  },
  {
   "cell_type": "code",
   "execution_count": 1,
   "metadata": {},
   "outputs": [],
   "source": [
    "# Importing packages\n",
    "\n",
    "## cv2 for processing image files\n",
    "import cv2  \n",
    "\n",
    "## importing cvzone; this package used to replace static background in the video\n",
    "import cvzone\n",
    "\n",
    "## importing SelfiSegmentation class from cvzone package; this class will helps to segment object and background\n",
    "## in the frame image\n",
    "from cvzone.SelfiSegmentationModule import SelfiSegmentation"
   ]
  },
  {
   "cell_type": "code",
   "execution_count": 9,
   "metadata": {},
   "outputs": [],
   "source": [
    "# Code for recording and saving video capture\n",
    "\n",
    "## importing package\n",
    "import cv2\n",
    "\n",
    "## value '0' will return ON the default webcam on computer for recording.\n",
    "cap = cv2.VideoCapture(0)\n",
    "\n",
    "## defining the codec \n",
    "fourcc = cv2.VideoWriter_fourcc(*'XVID')\n",
    "## create VideoWriter object to save every frame into 'output.mp4' with shape of 640, 480. \n",
    "out = cv2.VideoWriter('output.mp4', fourcc, 20.0, (640, 480))\n",
    "\n",
    "# Below loop will show recording scene and save the frame\n",
    "## loop runs if capturing has been initialized.\n",
    "while cap.isOpened():\n",
    "    ## reads frames from a camera\n",
    "    status, frame = cap.read()\n",
    "    # status checks presence of each frame\n",
    "    \n",
    "    ## check if frame is present\n",
    "    if status == True:\n",
    "        ## write the frame to 'out' object\n",
    "        out.write(frame)\n",
    "        ## output a window showing the video stream as individual frame\n",
    "        cv2.imshow('frame', frame)\n",
    "\n",
    "        ## Wait for 'q' key to stop the program\n",
    "        if cv2.waitKey(1) == ord('q'):\n",
    "            break\n",
    "    \n",
    "    ## if there is no any frame, will come out of loop\n",
    "    else:\n",
    "        break\n",
    "\n",
    "## Close the window / Release webcam\n",
    "cap.release()\n",
    "## After we release our webcam, we also release/end the 'out' object\n",
    "out.release()\n",
    "## clearing any associated memory space\n",
    "cv2.destroyAllWindows()"
   ]
  },
  {
   "cell_type": "code",
   "execution_count": 10,
   "metadata": {},
   "outputs": [],
   "source": [
    "# Here, we will change the background of saved/recorded video\n",
    "\n",
    "## importing video file\n",
    "vid = cv2.VideoCapture('output.mp4')\n",
    "\n",
    "## choosing the backgroung image\n",
    "bg_img = cv2.imread('bg_image.jpg')\n",
    "## Reshaping the image to that of video frame\n",
    "bg_img_rez = cv2.resize(bg_img, (640, 480))\n",
    "## creating a SelfiSegmentation object  \n",
    "seg = SelfiSegmentation()\n",
    "\n",
    "# Below loop will show recorded scene with replaced background\n",
    "## loop runs if video has been initialized.\n",
    "while vid.isOpened():\n",
    "    ## reads frames from video\n",
    "    status, frame = vid.read()\n",
    "    ## status checks presence of each frame\n",
    "    \n",
    "    ## check if frame is present\n",
    "    if status ==True:\n",
    "        ## Here, we pass our background image, frame as an argument value into 'removeBG' method of 'seg' object. \n",
    "        vid_rmbg = seg.removeBG(frame, bg_img_rez, threshold=0.8)\n",
    "        ## it will segment frame and replace background with image 'bg_img_rez', threshold can be change to modify degree of\n",
    "        ## background removal\n",
    "        \n",
    "        ## output a window showing the video stream with new background as individual frame\n",
    "        cv2.imshow('Backgroung Removed', vid_rmbg)\n",
    "\n",
    "        ## Wait for 'q' key to stop the program\n",
    "        if cv2.waitKey(1) == ord('q'):\n",
    "            break\n",
    "    \n",
    "    ## if there is no any frame, will come out of loop\n",
    "    else:\n",
    "        break\n",
    "\n",
    "## Close the window / Release video\n",
    "vid.release()\n",
    "## clearing any associated memory space\n",
    "cv2.destroyAllWindows()"
   ]
  },
  {
   "cell_type": "code",
   "execution_count": null,
   "metadata": {},
   "outputs": [],
   "source": []
  }
 ],
 "metadata": {
  "kernelspec": {
   "display_name": "Python 3",
   "language": "python",
   "name": "python3"
  },
  "language_info": {
   "codemirror_mode": {
    "name": "ipython",
    "version": 3
   },
   "file_extension": ".py",
   "mimetype": "text/x-python",
   "name": "python",
   "nbconvert_exporter": "python",
   "pygments_lexer": "ipython3",
   "version": "3.7.7"
  }
 },
 "nbformat": 4,
 "nbformat_minor": 4
}
