{
 "cells": [
  {
   "cell_type": "code",
   "execution_count": 1,
   "metadata": {},
   "outputs": [],
   "source": [
    "import numpy as np\n",
    "import joblib\n",
    "from skimage.feature import hog\n",
    "from skimage import color\n",
    "from skimage.transform import pyramid_gaussian\n",
    "from imutils.object_detection import non_max_suppression\n",
    "from scipy.special import expit\n",
    "import cv2"
   ]
  },
  {
   "cell_type": "code",
   "execution_count": 2,
   "metadata": {},
   "outputs": [],
   "source": [
    "model = joblib.load('svm_model3.npy')\n",
    "\n",
    "orientations = 9\n",
    "pixels_per_cell = (8, 8)\n",
    "cells_per_block = (2, 2)\n",
    "\n",
    "scale = 0\n",
    "detections = []\n",
    "\n",
    "(winW, winH) = (64,128)  # size of the sliding window\n",
    "windowSize = (winW,winH)\n",
    "downscale = 1.25 "
   ]
  },
  {
   "cell_type": "code",
   "execution_count": 3,
   "metadata": {},
   "outputs": [],
   "source": [
    "def sliding_window(image, stepSize, windowSize):\n",
    "    for y in range(0, image.shape[0], stepSize):\n",
    "        for x in range(0, image.shape[1], stepSize):\n",
    "            yield (x, y, image[y: y + windowSize[1], x:x + windowSize[0]])"
   ]
  },
  {
   "cell_type": "code",
   "execution_count": 4,
   "metadata": {},
   "outputs": [],
   "source": [
    "img = cv2.imread('C:\\\\Users\\\\admin\\\\JupyterNotebook_works\\\\mtech-programing-labs\\\\S2\\\\Computer-vision\\\\Project\\\\detection\\\\inputs\\\\1\\\\313.png')\n",
    "img = cv2.resize(img,(300,200))"
   ]
  },
  {
   "cell_type": "code",
   "execution_count": 5,
   "metadata": {},
   "outputs": [
    {
     "name": "stdout",
     "output_type": "stream",
     "text": [
      "Detection:: Location -> (60, 40)\n",
      "Scale ->  0 | Confidence Score [2.33552453] | Prob: [0.91177674]\n",
      "\n",
      "Detection:: Location -> (0, 50)\n",
      "Scale ->  0 | Confidence Score [2.24796171] | Prob: [0.90447457]\n",
      "\n",
      "Detection:: Location -> (120, 50)\n",
      "Scale ->  0 | Confidence Score [3.24964143] | Prob: [0.96266023]\n",
      "\n",
      "Detection:: Location -> (60, 20)\n",
      "Scale ->  1 | Confidence Score [2.4495009] | Prob: [0.92052494]\n",
      "\n",
      "Detection:: Location -> (40, 30)\n",
      "Scale ->  1 | Confidence Score [3.03603191] | Prob: [0.95417564]\n",
      "\n",
      "Detection:: Location -> (50, 30)\n",
      "Scale ->  1 | Confidence Score [2.71323492] | Prob: [0.9378031]\n",
      "\n"
     ]
    }
   ],
   "source": [
    "for resized in pyramid_gaussian(img, downscale=downscale): \n",
    "    for (x,y,window_) in sliding_window(resized, stepSize=10, windowSize=(winW,winH)):\n",
    "        if window_.shape[0] != winH or window_.shape[1] !=winW or window_.shape[2]!=3:\n",
    "            continue\n",
    "        window = color.rgb2gray(window_)\n",
    "        #window = cv2.cvtColor(window_, cv2.COLOR_BGR2GRAY) #.rgb2gray(window_[:,:,:3])\n",
    "        fds = hog(window, orientations, pixels_per_cell, cells_per_block, block_norm='L2') \n",
    "        fds = fds.reshape(1, -1)\n",
    "        pred = model.predict(fds)\n",
    "        \n",
    "        if pred == 1:\n",
    "            if expit(model.decision_function(fds))>=0.90: \n",
    "                print(\"Detection:: Location -> ({}, {})\".format(x, y))\n",
    "                print(\"Scale ->  {} | Confidence Score {} | Prob: {}\\n\".format(scale ,model.decision_function(fds),\n",
    "                                                                              expit(model.decision_function(fds))))\n",
    "                detections.append((int(x * (downscale**scale)), int(y * (downscale**scale)), model.decision_function(fds),\n",
    "                                   int(windowSize[0]*(downscale**scale)),\n",
    "                                      int(windowSize[1]*(downscale**scale))))\n",
    "                \n",
    "    scale+=1"
   ]
  },
  {
   "cell_type": "code",
   "execution_count": 6,
   "metadata": {},
   "outputs": [
    {
     "name": "stdout",
     "output_type": "stream",
     "text": [
      "detection confidence score:  [2.3355245346000206, 2.2479617111265533, 3.2496414267593003, 2.449500895704287, 3.0360319122883475, 2.713234919730321]\n"
     ]
    }
   ],
   "source": [
    "rects = np.array([[x, y, x + w, y + h] for (x, y, _, w, h) in detections])\n",
    "sc = [score[0] for (x, y, score, w, h) in detections]\n",
    "print(\"detection confidence score: \", sc)\n",
    "sc = np.array(sc)\n",
    "nms_rects = non_max_suppression(rects, probs = sc, overlapThresh=0.3)"
   ]
  },
  {
   "cell_type": "code",
   "execution_count": 26,
   "metadata": {},
   "outputs": [
    {
     "data": {
      "text/plain": [
       "array([[ 60,  40, 124, 168],\n",
       "       [  0,  50,  64, 178],\n",
       "       [120,  50, 184, 178],\n",
       "       [ 75,  25, 155, 185],\n",
       "       [ 50,  37, 130, 197],\n",
       "       [ 62,  37, 142, 197]])"
      ]
     },
     "execution_count": 26,
     "metadata": {},
     "output_type": "execute_result"
    }
   ],
   "source": [
    "rects"
   ]
  },
  {
   "cell_type": "code",
   "execution_count": 7,
   "metadata": {},
   "outputs": [],
   "source": [
    "nms_sc = []\n",
    "for i in range(rects.shape[0]):\n",
    "    for j in range(nms_rects.shape[0]):\n",
    "        if np.array_equal(rects[i], nms_rects[j]):\n",
    "            nms_sc.append(sc[i])"
   ]
  },
  {
   "cell_type": "code",
   "execution_count": 28,
   "metadata": {},
   "outputs": [
    {
     "data": {
      "text/plain": [
       "array([[120,  50, 184, 178],\n",
       "       [ 50,  37, 130, 197],\n",
       "       [  0,  50,  64, 178]])"
      ]
     },
     "execution_count": 28,
     "metadata": {},
     "output_type": "execute_result"
    }
   ],
   "source": [
    "nms_rects"
   ]
  },
  {
   "cell_type": "code",
   "execution_count": 8,
   "metadata": {},
   "outputs": [
    {
     "name": "stdout",
     "output_type": "stream",
     "text": [
      "0\n",
      "1\n",
      "2\n"
     ]
    }
   ],
   "source": [
    "for i, (xA, yA, xB, yB) in enumerate(nms_rects):\n",
    "    print(i)\n",
    "    cv2.rectangle(img, (xA, yA), (xB, yB), (0,255,0), 2)\n",
    "    cv2.putText(img,'Human',(xA-2,yA-2),1,0.75,(255,255,0),1)"
   ]
  },
  {
   "cell_type": "code",
   "execution_count": 9,
   "metadata": {},
   "outputs": [],
   "source": [
    "cv2.imshow('Detection', img)\n",
    "cv2.waitKey()\n",
    "cv2.destroyAllWindows()"
   ]
  },
  {
   "cell_type": "code",
   "execution_count": null,
   "metadata": {},
   "outputs": [],
   "source": []
  },
  {
   "cell_type": "code",
   "execution_count": 10,
   "metadata": {},
   "outputs": [],
   "source": [
    "model = joblib.load('svm_model3.npy')\n",
    "\n",
    "orientations = 9\n",
    "pixels_per_cell = (8, 8)\n",
    "cells_per_block = (2, 2)\n",
    "\n",
    "(winW, winH) = (64,128)  # size of the sliding window\n",
    "windowSize = (winW,winH)\n",
    "downscale = 1.25"
   ]
  },
  {
   "cell_type": "code",
   "execution_count": 11,
   "metadata": {},
   "outputs": [],
   "source": [
    "def sliding_window(image, stepSize, windowSize):\n",
    "    for y in range(0, image.shape[0], stepSize):\n",
    "        for x in range(0, image.shape[1], stepSize):\n",
    "            yield (x, y, image[y: y + windowSize[1], x:x + windowSize[0]])"
   ]
  },
  {
   "cell_type": "code",
   "execution_count": 12,
   "metadata": {},
   "outputs": [],
   "source": [
    "def detect(img):\n",
    "    scale = 0\n",
    "    detections = []\n",
    "    for resized in pyramid_gaussian(img, downscale=downscale): \n",
    "        for (x,y,window_) in sliding_window(resized, stepSize=10, windowSize=(winW,winH)):\n",
    "            if window_.shape[0] != winH or window_.shape[1] !=winW or window_.shape[2]!=3:\n",
    "                continue\n",
    "            window = color.rgb2gray(window_)\n",
    "            #window = cv2.cvtColor(window_, cv2.COLOR_BGR2GRAY) #.rgb2gray(window_[:,:,:3])\n",
    "            fds = hog(window, orientations, pixels_per_cell, cells_per_block, block_norm='L2') \n",
    "            fds = fds.reshape(1, -1)\n",
    "            pred = model.predict(fds)\n",
    "\n",
    "            if pred == 1:\n",
    "                if expit(model.decision_function(fds))>=0.90:\n",
    "                    #print(\"Detection:: Location -> ({}, {})\".format(x, y))\n",
    "                    #print(\"Scale ->  {} | Confidence Score {} \\n\".format(scale,model.decision_function(fds)))\n",
    "                    detections.append((int(x * (downscale**scale)), int(y * (downscale**scale)), expit(model.decision_function(fds)),\n",
    "                                       int(windowSize[0]*(downscale**scale)), \n",
    "                                          int(windowSize[1]*(downscale**scale))))\n",
    "        scale+=1\n",
    "    return detections"
   ]
  },
  {
   "cell_type": "code",
   "execution_count": 13,
   "metadata": {},
   "outputs": [],
   "source": [
    "from datetime import datetime"
   ]
  },
  {
   "cell_type": "code",
   "execution_count": 14,
   "metadata": {},
   "outputs": [
    {
     "name": "stdout",
     "output_type": "stream",
     "text": [
      "0.9211618339256893\n",
      "0.946712380908483\n",
      "0.9791766889049042\n",
      "Detection Time: 2522.551 ms\n",
      "0.91751865033145\n",
      "Detection Time: 908.897 ms\n",
      "0.9725327784883417\n",
      "0.9251126988002584\n",
      "Detection Time: 864.837 ms\n",
      "0.9462559489016246\n",
      "0.9501918715654489\n",
      "Detection Time: 813.549 ms\n",
      "0.9471732991642706\n",
      "0.9235643165463869\n",
      "Detection Time: 888.924 ms\n",
      "0.962601272971059\n",
      "0.9305414715938581\n",
      "Detection Time: 905.227 ms\n",
      "0.9574039453957844\n",
      "Detection Time: 863.569 ms\n",
      "0.992790098753327\n",
      "0.9711031340773004\n",
      "Detection Time: 811.335 ms\n",
      "0.9339350474399053\n",
      "0.9308348310142548\n",
      "0.9485706022473269\n",
      "Detection Time: 818.519 ms\n",
      "0.9578387593408446\n",
      "0.9585609166279919\n",
      "Detection Time: 873.708 ms\n",
      "0.9660272205339583\n",
      "0.9803193559114712\n",
      "Detection Time: 823.991 ms\n",
      "0.979749993639893\n",
      "0.9744955491852334\n",
      "Detection Time: 802.251 ms\n",
      "0.9792468493365035\n",
      "Detection Time: 951.317 ms\n",
      "0.9869463650251634\n",
      "Detection Time: 815.036 ms\n",
      "0.9514726738594436\n",
      "Detection Time: 823.248 ms\n",
      "Detection Time: 876.739 ms\n",
      "0.9753437948772207\n",
      "0.9638175478365552\n",
      "0.9496927792505173\n",
      "Detection Time: 861.768 ms\n",
      "0.9462357660170527\n",
      "0.9134696738044937\n",
      "Detection Time: 969.759 ms\n",
      "0.965514820061586\n",
      "0.9146922375447432\n",
      "Detection Time: 898.05 ms\n",
      "0.9498715655384334\n",
      "Detection Time: 785.549 ms\n",
      "0.9452088171635827\n",
      "0.9391316950843428\n",
      "Detection Time: 826.873 ms\n",
      "0.9467324192001322\n",
      "Detection Time: 803.87 ms\n",
      "0.9802188220144438\n",
      "Detection Time: 780.903 ms\n",
      "0.9338813466031827\n",
      "0.9063424411280894\n",
      "Detection Time: 791.718 ms\n",
      "0.9287181289223194\n",
      "Detection Time: 815.273 ms\n",
      "0.9404742990734973\n",
      "0.9029188221569592\n",
      "Detection Time: 873.28 ms\n",
      "0.9779311167880844\n",
      "Detection Time: 833.858 ms\n",
      "0.9389595113608368\n",
      "Detection Time: 772.258 ms\n",
      "0.9696437425553491\n",
      "0.9474066305830773\n",
      "0.938613858254718\n",
      "Detection Time: 802.206 ms\n",
      "Detection Time: 911.487 ms\n",
      "0.9222095635875848\n",
      "Detection Time: 840.86 ms\n",
      "0.9215540518208717\n",
      "0.9131625189271377\n",
      "Detection Time: 829.749 ms\n",
      "0.9329045509153455\n",
      "0.9857174693512107\n",
      "0.9653615795684992\n",
      "Detection Time: 779.607 ms\n",
      "0.9111388881595919\n",
      "0.9604453789238189\n",
      "Detection Time: 915.626 ms\n",
      "0.9076796235499783\n",
      "Detection Time: 876.061 ms\n",
      "0.9678738798710966\n",
      "Detection Time: 948.613 ms\n",
      "0.9486386790940298\n",
      "0.9127298241341226\n",
      "Detection Time: 818.503 ms\n",
      "0.9615123103269063\n",
      "0.9661459771520587\n",
      "Detection Time: 780.737 ms\n",
      "0.9489141183652002\n",
      "0.9486957779342589\n",
      "Detection Time: 783.127 ms\n",
      "0.9271769879545128\n",
      "Detection Time: 811.531 ms\n",
      "0.9159913587829536\n",
      "Detection Time: 791.617 ms\n",
      "0.9231877485359863\n",
      "Detection Time: 811.332 ms\n",
      "0.9100930030205854\n",
      "0.9000350670063567\n",
      "Detection Time: 818.498 ms\n",
      "0.9590122288758705\n",
      "0.988771641570237\n",
      "0.9842771653941297\n",
      "Detection Time: 877.867 ms\n",
      "0.9482894912477517\n",
      "0.98703240754897\n",
      "0.9230814484990217\n",
      "Detection Time: 874.281 ms\n",
      "0.976888499627934\n",
      "0.9475089770143978\n",
      "Detection Time: 932.726 ms\n",
      "0.9877804989749287\n",
      "0.9847548582526555\n",
      "Detection Time: 848.018 ms\n",
      "0.9089876328902313\n",
      "0.9772730227633373\n",
      "Detection Time: 856.689 ms\n",
      "0.9338590895442566\n",
      "0.9850558792746694\n",
      "Detection Time: 826.697 ms\n"
     ]
    }
   ],
   "source": [
    "# importing libraries\n",
    "import cv2\n",
    "import numpy as np\n",
    "\n",
    "# Create a VideoCapture object and read from input file\n",
    "#cap = cv2.VideoCapture('C:\\\\Users\\\\admin\\\\JupyterNotebook_works\\\\mtech-programing-labs\\\\S2\\\\Computer-vision\\\\Project\\\\detection\\\\videoplayback.mp4')\n",
    "\n",
    "cap = cv2.VideoCapture(0)\n",
    "\n",
    "while(cap.isOpened()):\n",
    "    time_bf = datetime.now()\n",
    "    ret, frame = cap.read()\n",
    "    if ret == True:\n",
    "        frame_res = cv2.resize(frame,(300,200))\n",
    "        detections = detect(frame_res)\n",
    "        rects = np.array([[x, y, x + w, y + h] for (x, y, _, w, h) in detections]) # do nms on the detected bounding boxes\n",
    "        sc = [score[0] for (x, y, score, w, h) in detections]\n",
    "        sc = np.array(sc)\n",
    "        nms_rects = non_max_suppression(rects, probs = sc, overlapThresh=0.3)\n",
    "        nms_sc = []\n",
    "        for i in range(rects.shape[0]):\n",
    "            for j in range(nms_rects.shape[0]):\n",
    "                if np.array_equal(rects[i], nms_rects[j]):\n",
    "                    nms_sc.append(sc[i])\n",
    "        nms_sc = np.array(nms_sc)\n",
    "        \n",
    "        for i, (xA, yA, xB, yB) in enumerate(nms_rects):\n",
    "            cv2.rectangle(frame_res, (xA, yA), (xB, yB), (0,255,0), 2)\n",
    "            cv2.putText(frame_res,'Human',(xA-2,yA-2),1,1,(0,255,0),1)\n",
    "            print(nms_sc[i])\n",
    "        time_af = datetime.now()\n",
    "        time_dif = time_af - time_bf\n",
    "        print('Detection Time: {} ms'.format(round(time_dif.total_seconds()*1000, 3)))\n",
    "        cv2.imshow('frame', frame_res)\n",
    "        if cv2.waitKey(25) & 0xFF == ord('q'):\n",
    "            break\n",
    "\n",
    "    else:\n",
    "        break\n",
    "        \n",
    "cap.release()\n",
    "cv2.destroyAllWindows()"
   ]
  },
  {
   "cell_type": "code",
   "execution_count": null,
   "metadata": {},
   "outputs": [],
   "source": []
  },
  {
   "cell_type": "code",
   "execution_count": null,
   "metadata": {},
   "outputs": [],
   "source": []
  }
 ],
 "metadata": {
  "kernelspec": {
   "display_name": "Python 3",
   "language": "python",
   "name": "python3"
  },
  "language_info": {
   "codemirror_mode": {
    "name": "ipython",
    "version": 3
   },
   "file_extension": ".py",
   "mimetype": "text/x-python",
   "name": "python",
   "nbconvert_exporter": "python",
   "pygments_lexer": "ipython3",
   "version": "3.7.7"
  }
 },
 "nbformat": 4,
 "nbformat_minor": 4
}
