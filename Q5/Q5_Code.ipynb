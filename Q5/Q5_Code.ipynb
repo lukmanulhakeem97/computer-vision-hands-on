{
 "cells": [
  {
   "cell_type": "markdown",
   "metadata": {},
   "source": [
    "# Task 5\n",
    "Record an original video of a subject in a stationary background (No green screens).\n",
    "\n",
    "    a. Change the original background with another background.\n",
    "    b. Show the optical flow of the video"
   ]
  },
  {
   "cell_type": "markdown",
   "metadata": {},
   "source": [
    "## Prerequisite\n",
    "Before running below code make sure to install packages in 'requirements.txt' file."
   ]
  },
  {
   "cell_type": "markdown",
   "metadata": {},
   "source": [
    "Ref: https://youtu.be/p9eNXa_8j-k"
   ]
  },
  {
   "cell_type": "code",
   "execution_count": null,
   "metadata": {},
   "outputs": [],
   "source": [
    "# !pip install cvzone"
   ]
  },
  {
   "cell_type": "code",
   "execution_count": null,
   "metadata": {},
   "outputs": [],
   "source": [
    "# !pip install mediapipe"
   ]
  },
  {
   "cell_type": "code",
   "execution_count": 18,
   "metadata": {},
   "outputs": [],
   "source": [
    "# !pip install \"opencv-python-headless<4.3\""
   ]
  },
  {
   "cell_type": "code",
   "execution_count": 1,
   "metadata": {},
   "outputs": [],
   "source": [
    "# Importing packages\n",
    "\n",
    "import time\n",
    "import numpy as np\n",
    "## cv2 for processing image files\n",
    "import cv2 \n",
    "\n",
    "## importing cvzone; this package used to replace static background in the video\n",
    "import cvzone\n",
    "\n",
    "## importing SelfiSegmentation class from cvzone package; this class will helps to segment object and background\n",
    "## in the frame image\n",
    "from cvzone.SelfiSegmentationModule import SelfiSegmentation"
   ]
  },
  {
   "cell_type": "code",
   "execution_count": 2,
   "metadata": {},
   "outputs": [],
   "source": [
    "# Code for recording and saving video capture\n",
    "\n",
    "## value '0' will return ON the default webcam on computer for recording.\n",
    "cap = cv2.VideoCapture(0)\n",
    "\n",
    "## defining the codec \n",
    "fourcc = cv2.VideoWriter_fourcc(*'XVID')\n",
    "## create VideoWriter object to save every frame into 'output.mp4' with shape of 640, 480. \n",
    "out = cv2.VideoWriter('output.mp4', fourcc, 20.0, (640, 480))\n",
    "\n",
    "# Below loop will show recording scene and save the frame\n",
    "## loop runs if capturing has been initialized.\n",
    "while cap.isOpened():\n",
    "    ## reads frames from a camera\n",
    "    status, frame = cap.read()\n",
    "    # status checks presence of each frame\n",
    "    \n",
    "    ## check if frame is present\n",
    "    if status == True:\n",
    "        ## write the frame to 'out' object\n",
    "        out.write(frame)\n",
    "        ## output a window showing the video stream as individual frame\n",
    "        cv2.imshow('frame', frame)\n",
    "\n",
    "        ## Wait for 'q' key to stop the program\n",
    "        if cv2.waitKey(1) == ord('q'):\n",
    "            break\n",
    "    \n",
    "    ## if there is no any frame, will come out of loop\n",
    "    else:\n",
    "        break\n",
    "\n",
    "## Close the window / Release webcam\n",
    "cap.release()\n",
    "## After we release our webcam, we also release/end the 'out' object\n",
    "out.release()\n",
    "## clearing any associated memory space\n",
    "cv2.destroyAllWindows()"
   ]
  },
  {
   "cell_type": "code",
   "execution_count": 5,
   "metadata": {},
   "outputs": [],
   "source": [
    "# Here, we will change the background of saved/recorded video\n",
    "\n",
    "## importing video file\n",
    "vid = cv2.VideoCapture('output.mp4')\n",
    "\n",
    "## choosing the backgroung image\n",
    "bg_img = cv2.imread('bg_image.jpg')\n",
    "## Reshaping the image to that of video frame\n",
    "bg_img_rez = cv2.resize(bg_img, (640, 480))\n",
    "## creating a SelfiSegmentation object  \n",
    "seg = SelfiSegmentation()\n",
    "\n",
    "# Below loop will show recorded scene with replaced background\n",
    "## loop runs if video has been initialized.\n",
    "while vid.isOpened():\n",
    "    ## reads frames from video\n",
    "    status, frame = vid.read()\n",
    "    ## status checks presence of each frame\n",
    "    \n",
    "    ## check if frame is present\n",
    "    if status ==True:\n",
    "        ## Here, we pass our background image, frame as an argument value into 'removeBG' method of 'seg' object. \n",
    "        vid_rmbg = seg.removeBG(frame, bg_img_rez, threshold=0.8)\n",
    "        ## it will segment frame and replace background with image 'bg_img_rez', threshold can be change to modify degree of\n",
    "        ## background removal\n",
    "        \n",
    "        ## output a window showing the video stream with new background as individual frame\n",
    "        cv2.imshow('Backgroung Removed', vid_rmbg)\n",
    "\n",
    "        ## Wait for 'q' key to stop the program\n",
    "        if cv2.waitKey(1) == ord('q'):\n",
    "            break\n",
    "    \n",
    "    ## if there is no any frame, will come out of loop\n",
    "    else:\n",
    "        break\n",
    "\n",
    "## Close the window / Release video\n",
    "vid.release()\n",
    "## clearing any associated memory space\n",
    "cv2.destroyAllWindows()"
   ]
  },
  {
   "cell_type": "markdown",
   "metadata": {},
   "source": [
    "### Optical flow of the video"
   ]
  },
  {
   "cell_type": "code",
   "execution_count": 6,
   "metadata": {},
   "outputs": [],
   "source": [
    "def draw_flow(img, op_flow, step=16):\n",
    "    hight, width = img.shape[:2]\n",
    "    y, x = np.mgrid[step/2:hight:step, step/2:width:step].reshape(2,-1).astype(int)\n",
    "    fx, fy = op_flow[y,x].T\n",
    "\n",
    "    lines = np.vstack([x, y, x-fx, y-fy]).T.reshape(-1, 2, 2)\n",
    "    lines = np.int32(lines + 0.5)\n",
    "\n",
    "    img_bgr = cv2.cvtColor(img, cv2.COLOR_GRAY2BGR)\n",
    "    cv2.polylines(img_bgr, lines, 0, (0, 255, 0))\n",
    "\n",
    "    for (x1, y1), (_x2, _y2) in lines:\n",
    "        cv2.circle(img_bgr, (x1, y1), 1, (0, 255, 0), -1)\n",
    "\n",
    "    return img_bgr"
   ]
  },
  {
   "cell_type": "code",
   "execution_count": 7,
   "metadata": {},
   "outputs": [],
   "source": [
    "def draw_hsv_flow(op_flow):\n",
    "    hight, width = img.shape[:2]\n",
    "    fx, fy = op_flow[:,:,0], op_flow[:,:,1]\n",
    "\n",
    "    ang = np.arctan2(fy, fx) + np.pi\n",
    "    v = np.sqrt(fx*fx+fy*fy)\n",
    "\n",
    "    hsv = np.zeros((hight, width, 3), np.uint8)\n",
    "    hsv[...,0] = ang*(180/np.pi/2)\n",
    "    hsv[...,1] = 255\n",
    "    hsv[...,2] = np.minimum(v*4, 255)\n",
    "    bgr = cv2.cvtColor(hsv, cv2.COLOR_HSV2BGR)\n",
    "\n",
    "    return bgr"
   ]
  },
  {
   "cell_type": "code",
   "execution_count": 8,
   "metadata": {},
   "outputs": [],
   "source": [
    "vid = cv2.VideoCapture('output.mp4')\n",
    "_, prev = vid.read()\n",
    "prev_gray = cv2.cvtColor(prev, cv2.COLOR_BGR2GRAY)\n",
    "\n",
    "\n",
    "while True:\n",
    "    _, img = vid.read()\n",
    "    curr_gray = cv2.cvtColor(img, cv2.COLOR_BGR2GRAY)\n",
    "    optical_flow = cv2.calcOpticalFlowFarneback(prev_gray, curr_gray, None, 0.5, 3, 15, 3, 5, 1.2, 0)\n",
    "    prev_gray = curr_gray\n",
    "\n",
    "    cv2.imshow('flow', draw_flow(curr_gray, optical_flow))\n",
    "    cv2.imshow('flow HSV', draw_hsv_flow(optical_flow))\n",
    "\n",
    "\n",
    "    key = cv2.waitKey(5)\n",
    "    if key == ord('q'):\n",
    "        break\n",
    "\n",
    "vid.release()\n",
    "cv2.destroyAllWindows()"
   ]
  },
  {
   "cell_type": "markdown",
   "metadata": {},
   "source": [
    "Ref: https://www.youtube.com/watch?v=WrlH5hHv0gE"
   ]
  },
  {
   "cell_type": "code",
   "execution_count": null,
   "metadata": {},
   "outputs": [],
   "source": []
  }
 ],
 "metadata": {
  "kernelspec": {
   "display_name": "Python 3",
   "language": "python",
   "name": "python3"
  },
  "language_info": {
   "codemirror_mode": {
    "name": "ipython",
    "version": 3
   },
   "file_extension": ".py",
   "mimetype": "text/x-python",
   "name": "python",
   "nbconvert_exporter": "python",
   "pygments_lexer": "ipython3",
   "version": "3.7.7"
  }
 },
 "nbformat": 4,
 "nbformat_minor": 4
}
